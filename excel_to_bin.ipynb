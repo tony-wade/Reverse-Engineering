{
  "nbformat": 4,
  "nbformat_minor": 0,
  "metadata": {
    "colab": {
      "provenance": [],
      "authorship_tag": "ABX9TyOqNTkyUzaT+EiMzBnNF0Je",
      "include_colab_link": true
    },
    "kernelspec": {
      "name": "python3",
      "display_name": "Python 3"
    },
    "language_info": {
      "name": "python"
    }
  },
  "cells": [
    {
      "cell_type": "markdown",
      "metadata": {
        "id": "view-in-github",
        "colab_type": "text"
      },
      "source": [
        "<a href=\"https://colab.research.google.com/github/tony-wade/Reverse-Engineering/blob/main/excel_to_bin.ipynb\" target=\"_parent\"><img src=\"https://colab.research.google.com/assets/colab-badge.svg\" alt=\"Open In Colab\"/></a>"
      ]
    },
    {
      "cell_type": "markdown",
      "source": [
        "## 如何判讀disassemble後的成品(assembly正確與否)\n",
        "\n",
        "*   interrupt 和 RETI會常用(臨時作動用), delay則盡量避免(=停擺待機 vs 硬體觸發)\n",
        "```\n",
        " 對於8051 (按絕對位置 = 初始優先級排序):\n",
        "  1.   0000  Reset(接著執行此指令)\n",
        "  2.   0003  INT0 = External HW Interrupt 0\n",
        "  3.   000B  TF0 = Timer 0 Interrupt\n",
        "  4.   0013  INT1 = External HW Interrupt 1\n",
        "  5.   001B  TF1 = Timer 1 Interrupt\n",
        "  6.   0023  RI, TI = Serial Com Interrupt (讀or發送訊號時用)\n",
        "\n",
        "    另有一暫存器:IE Register = hex code能控制上述各interrupt要作動與否\n",
        "    MOV IE, #81H    ; 使能外部中斷 INT0\n",
        "```\n",
        "*  CALL系列=副程式, 結束時需用RET回分支點\n",
        "*  JUMP系列=直接跳轉, 用於LOOP或分支\n",
        "*  0000時多為JMP,或 MOV(較少)\n",
        "\n",
        "\n",
        "\n",
        "\n",
        "https://ebooks.inflibnet.ac.in/csp13/chapter/interrupt-handling-and-assembly-programming/"
      ],
      "metadata": {
        "id": "hcOtEfXIZJjD"
      }
    },
    {
      "cell_type": "code",
      "source": [
        "import zipfile\n",
        "from google.colab import files\n",
        "\n",
        "# 獲取目錄中所有的 .bin 檔案\n",
        "bin_files = [file for file in os.listdir() if file.endswith('.bin')]\n",
        "\n",
        "# 建立壓縮檔\n",
        "with zipfile.ZipFile('bin_files.zip', 'w') as zipf:\n",
        "    # 將所有 .bin 檔案添加到壓縮檔中\n",
        "    for file in bin_files:\n",
        "        zipf.write(file)\n",
        "\n",
        "# 下載壓縮檔\n",
        "files.download('bin_files.zip')"
      ],
      "metadata": {
        "colab": {
          "base_uri": "https://localhost:8080/",
          "height": 17
        },
        "id": "wc7nRA-7p3Xe",
        "outputId": "1cecb8de-5622-4d83-8116-e54550784142"
      },
      "execution_count": null,
      "outputs": [
        {
          "output_type": "display_data",
          "data": {
            "text/plain": [
              "<IPython.core.display.Javascript object>"
            ],
            "application/javascript": [
              "\n",
              "    async function download(id, filename, size) {\n",
              "      if (!google.colab.kernel.accessAllowed) {\n",
              "        return;\n",
              "      }\n",
              "      const div = document.createElement('div');\n",
              "      const label = document.createElement('label');\n",
              "      label.textContent = `Downloading \"${filename}\": `;\n",
              "      div.appendChild(label);\n",
              "      const progress = document.createElement('progress');\n",
              "      progress.max = size;\n",
              "      div.appendChild(progress);\n",
              "      document.body.appendChild(div);\n",
              "\n",
              "      const buffers = [];\n",
              "      let downloaded = 0;\n",
              "\n",
              "      const channel = await google.colab.kernel.comms.open(id);\n",
              "      // Send a message to notify the kernel that we're ready.\n",
              "      channel.send({})\n",
              "\n",
              "      for await (const message of channel.messages) {\n",
              "        // Send a message to notify the kernel that we're ready.\n",
              "        channel.send({})\n",
              "        if (message.buffers) {\n",
              "          for (const buffer of message.buffers) {\n",
              "            buffers.push(buffer);\n",
              "            downloaded += buffer.byteLength;\n",
              "            progress.value = downloaded;\n",
              "          }\n",
              "        }\n",
              "      }\n",
              "      const blob = new Blob(buffers, {type: 'application/binary'});\n",
              "      const a = document.createElement('a');\n",
              "      a.href = window.URL.createObjectURL(blob);\n",
              "      a.download = filename;\n",
              "      div.appendChild(a);\n",
              "      a.click();\n",
              "      div.remove();\n",
              "    }\n",
              "  "
            ]
          },
          "metadata": {}
        },
        {
          "output_type": "display_data",
          "data": {
            "text/plain": [
              "<IPython.core.display.Javascript object>"
            ],
            "application/javascript": [
              "download(\"download_2d32cbdf-6ad2-49a3-b608-9dba64603924\", \"bin_files.zip\", 39006)"
            ]
          },
          "metadata": {}
        }
      ]
    },
    {
      "cell_type": "code",
      "source": [
        "excel_to_bin(input_folder=input_folder)\n",
        "# excel_to_bin(input_folder=input_folder, mode='bitwise_not')\n",
        "# excel_to_bin(input_folder=input_folder, big_endian=False)\n",
        "# excel_to_bin(input_folder=input_folder, mode='bitwise_not', big_endian=False)"
      ],
      "metadata": {
        "colab": {
          "base_uri": "https://localhost:8080/"
        },
        "id": "sBlpAYhJeHmm",
        "outputId": "7fdcf4f1-cbbb-40bd-e2ea-1f81eec26682"
      },
      "execution_count": null,
      "outputs": [
        {
          "output_type": "stream",
          "name": "stdout",
          "text": [
            "Opening file: ./test.xlsx\n"
          ]
        }
      ]
    },
    {
      "cell_type": "code",
      "source": [
        "input_folder = '.'\n",
        "remove_sequences = [\n",
        "    ['d3', '5e', '6d', 'dd', 'b3', '2c', 'fb', 'ee'],\n",
        "    ['b4', '57', '5b', 'f7', '2e'],\n",
        "    ['eb', '35', 'ed', 'd5', 'd6', '7d', 'cb'],\n",
        "    ['6a', '4d', '7b', 'b5', '75', 'ff', 'ba', 'ee'],\n",
        "    ['d3', '5e', '6d', 'dd', 'bf', '2e', 'ba'],\n",
        "    ['b4', '57', '5b', '77', 'ac', 'cb', 'be'],\n",
        "    ['ed', 'd5', 'd6', '9d', 'eb'],\n",
        "    ['4d', '7b', 'b5', '75', 'd7', 'ba']\n",
        "]\n",
        "target_sequence = ['a5', 'f1']"
      ],
      "metadata": {
        "id": "bdRCIQtSpSLs"
      },
      "execution_count": null,
      "outputs": []
    },
    {
      "cell_type": "code",
      "source": [
        "def xor(data, hex_value):\n",
        "    \"\"\"\n",
        "    XORs two hexadecimal values\n",
        "\n",
        "    Args:\n",
        "        data (str): The first hexadecimal value.\n",
        "        hex_value (str): The second hexadecimal value.\n",
        "\n",
        "    Returns:\n",
        "        str: The result of XOR operation in uppercase string format.\n",
        "    \"\"\"\n",
        "    return format((int(data, 16) ^ int(hex_value, 16)), '02X')\n",
        "\n",
        "\n",
        "def extract_row_data(row_data, excess_hex_seq=None, target_hex_seq=None):\n",
        "    \"\"\"\n",
        "    Extract specified sequences from row data and check for target sequence.\n",
        "\n",
        "    Args:\n",
        "        row_data (pd.Series): Row data to be processed.\n",
        "        excess_hex_seq (list of lists): List of sequences to be removed if they match exactly.\n",
        "        target_hex_seq (list): Target sequence to check for.\n",
        "\n",
        "    Returns:\n",
        "        list or None: List of extracted data if target sequence is found, otherwise None.\n",
        "    \"\"\"\n",
        "    # Combine all non-null data in the row into a single string\n",
        "    data_str = ' '.join(row_data.dropna().tolist())\n",
        "\n",
        "    if excess_hex_seq:\n",
        "        # Remove specified sequences from the data string\n",
        "        for seq in excess_hex_seq:\n",
        "            seq_str = ' '.join(seq)\n",
        "            data_str = data_str.replace(seq_str, '')\n",
        "\n",
        "    # Convert the data string back to a list\n",
        "    result = data_str.split()\n",
        "\n",
        "    if target_hex_seq:\n",
        "        # Check for the presence of the target sequence\n",
        "        target_seq_str = ' '.join(target_hex_seq)\n",
        "        target_index = data_str.find(target_seq_str)\n",
        "        if target_index != -1:\n",
        "            # Extract data after the target sequence\n",
        "            after_target_data = data_str[target_index + len(target_seq_str):].strip()\n",
        "            result = after_target_data.split()\n",
        "        else:\n",
        "            result = []\n",
        "\n",
        "    return result\n",
        "\n",
        "\n",
        "def endian_conversion(byte_datas, big_endian):\n",
        "    \"\"\"\n",
        "    Perform endian conversion on a list of byte data.\n",
        "\n",
        "    Args:\n",
        "        byte_datas (list): List of byte data.\n",
        "        big_endian (bool): Flag indicating big endian or little endian.\n",
        "\n",
        "    Returns:\n",
        "        bytes: Endian-converted binary data.\n",
        "    \"\"\"\n",
        "    return b''.join(byte_datas) if big_endian else b''.join(reversed(byte_datas))\n",
        "\n",
        "\n",
        "\n",
        "def process_row_data(row_data, big_endian, xor_data=None):\n",
        "    \"\"\"\n",
        "    Process row data to generate binary data.\n",
        "\n",
        "    Args:\n",
        "        row_data (pd.Series): Row data to be processed.\n",
        "        big_endian (bool): Flag indicating big endian or little endian.\n",
        "        xor_data (str): Optional XOR data for encryption.\n",
        "\n",
        "    Returns:\n",
        "        bytes: Processed binary data.\n",
        "    \"\"\"\n",
        "    row = extract_row_data(row_data=row_data)  # 手動調整remove_seq, target_seq\n",
        "\n",
        "    if row:\n",
        "        if xor_data:\n",
        "            byte_datas = [bytes([int(xor(byte, xor_data), 16)]) for byte in row]\n",
        "        else:\n",
        "            byte_datas = [bytes([int(byte, 16)]) for byte in row]\n",
        "\n",
        "        return endian_conversion(byte_datas, big_endian)\n",
        "\n",
        "\n",
        "def data_processor(row_datas, output_file, big_endian, mode=None, xor_data=None):\n",
        "    \"\"\"\n",
        "    Process row data and write binary data to output file.\n",
        "\n",
        "    Args:\n",
        "        row_datas (pd.DataFrame): DataFrame containing row data.\n",
        "        output_file (str): Output file path.\n",
        "        big_endian (bool): Flag indicating big endian or little endian.\n",
        "        mode (str): Optional mode for processing data.\n",
        "        xor_data (str): Optional XOR data for encryption.\n",
        "    \"\"\"\n",
        "    row_datas = row_datas.astype(str)\n",
        "    with open(output_file, 'wb') as f:\n",
        "        if mode == 'bitwise_not':\n",
        "            xor_data = 'FF'\n",
        "        for _, row_data in row_datas.iterrows():\n",
        "            bin_data = process_row_data(row_data, big_endian, xor_data)\n",
        "            f.write(bin_data)\n",
        "\n",
        "\n",
        "def excel_to_bin(input_folder, mode=None, big_endian=True, xor_list=None):\n",
        "    \"\"\"\n",
        "    Convert Excel files to binary files.\n",
        "\n",
        "    Args:\n",
        "        input_folder (str): Folder containing Excel files.\n",
        "        mode (str): Optional mode for processing data.\n",
        "        big_endian (bool): Flag indicating big endian or little endian.\n",
        "        xor_list (list): List of XOR data values for encryption.\n",
        "    \"\"\"\n",
        "    for filename in os.listdir(input_folder):\n",
        "        if filename.endswith(\".xlsx\"):\n",
        "            file_path = os.path.join(input_folder, filename)\n",
        "            print(\"Opening file:\", file_path)\n",
        "\n",
        "            df = pd.read_excel(file_path, header=None, dtype=str)\n",
        "            df.columns = range(df.shape[1])\n",
        "\n",
        "            endian_str = \"big\" if big_endian else \"small\"\n",
        "            if xor_list:\n",
        "                for xor_value in xor_list:\n",
        "                    output_file = \"XOR_\" + xor_value + \"_\" + os.path.splitext(filename)[0] + \".bin\"\n",
        "                    data_processor(row_data=df, output_file=output_file, big_endian=big_endian, xor_data=xor_value)\n",
        "            else:\n",
        "                if mode:\n",
        "                    output_file = f\"{mode}_{endian_str}_{os.path.splitext(filename)[0]}.bin\"\n",
        "                    data_processor(df, output_file, big_endian, mode)\n",
        "                else:\n",
        "                    output_file = f\"{endian_str}_{os.path.splitext(filename)[0]}.bin\"\n",
        "                    data_processor(df, output_file, big_endian)"
      ],
      "metadata": {
        "id": "EMwdfzVjxX8J"
      },
      "execution_count": null,
      "outputs": []
    },
    {
      "cell_type": "code",
      "execution_count": null,
      "metadata": {
        "id": "obn6SWjKulSY"
      },
      "outputs": [],
      "source": [
        "import os\n",
        "import pandas as pd"
      ]
    }
  ]
}